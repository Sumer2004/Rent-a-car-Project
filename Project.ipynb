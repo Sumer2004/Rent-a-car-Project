{
 "cells": [
  {
   "cell_type": "code",
   "execution_count": 23,
   "id": "b06fd03d-269f-429a-83a4-e61661055fa9",
   "metadata": {},
   "outputs": [
    {
     "name": "stdout",
     "output_type": "stream",
     "text": [
      "WELCOME TO THE CAR RENTALS!!\n",
      "There are few of the options you can opt for from our company.\n",
      "1. Listing all the Vehicles and Details\n",
      "2. Which Vehicle would you like to rent\n",
      "3. Return a Car\n",
      "4. Would You Like to add a Car we can provide you with?\n",
      "5. Would you like to know more about the company?\n",
      "\n"
     ]
    },
    {
     "name": "stdin",
     "output_type": "stream",
     "text": [
      "Enter the choice you would like to opt:  1\n"
     ]
    },
    {
     "name": "stdout",
     "output_type": "stream",
     "text": [
      "                     Car_Name Type_of_Vehicle  Maximum_Passenger  \\\n",
      "0              Ford Endeavour         SUV 4X4                  6   \n",
      "1               Hyundai Creta             SUV                  5   \n",
      "2                 Honda Amaze           Sedan                  4   \n",
      "3             Toyota Fortuner         SUV 4X4                  6   \n",
      "4         Maruti Suzuki Swift       Hatchback                  4   \n",
      "5                  Tata Tiago       Hatchback                  4   \n",
      "6            Chevrolet Camaro        Pony car                  4   \n",
      "7  Maruti Suzuki Grand Vitara             SUV                  5   \n",
      "\n",
      "   Money_Per_Day  Quantity  \n",
      "0           6000         2  \n",
      "1           5000         4  \n",
      "2           3000         6  \n",
      "3           6000         3  \n",
      "4           2000         8  \n",
      "5           2000         7  \n",
      "6           3000         1  \n",
      "7           5000         4  \n"
     ]
    },
    {
     "name": "stdin",
     "output_type": "stream",
     "text": [
      "Would you like to continue or quit? (c/q):  c\n"
     ]
    },
    {
     "name": "stdout",
     "output_type": "stream",
     "text": [
      "There are few of the options you can opt for from our company.\n",
      "1. Listing all the Vehicles and Details\n",
      "2. Which Vehicle would you like to rent\n",
      "3. Return a Car\n",
      "4. Would You Like to add a Car we can provide you with?\n",
      "5. Would you like to know more about the company?\n",
      "\n"
     ]
    },
    {
     "name": "stdin",
     "output_type": "stream",
     "text": [
      "Enter the choice you would like to opt:  2\n",
      "\n",
      "Number of Passengers you are planning on traveling with:  5\n",
      "How many days are you planning on traveling:  5\n"
     ]
    },
    {
     "name": "stdout",
     "output_type": "stream",
     "text": [
      "\n",
      "We would Like to suggest you this vehicle(s): \n",
      "Car Name: Ford Endeavour, Maximum Passengers: 6, Cost for 5 days: 30000\n"
     ]
    },
    {
     "name": "stdin",
     "output_type": "stream",
     "text": [
      "Would you like to rent this car? (yes/no):  no\n"
     ]
    },
    {
     "name": "stdout",
     "output_type": "stream",
     "text": [
      "Car Name: Hyundai Creta, Maximum Passengers: 5, Cost for 5 days: 25000\n"
     ]
    },
    {
     "name": "stdin",
     "output_type": "stream",
     "text": [
      "Would you like to rent this car? (yes/no):  no\n"
     ]
    },
    {
     "name": "stdout",
     "output_type": "stream",
     "text": [
      "Car Name: Toyota Fortuner, Maximum Passengers: 6, Cost for 5 days: 30000\n"
     ]
    },
    {
     "name": "stdin",
     "output_type": "stream",
     "text": [
      "Would you like to rent this car? (yes/no):  no\n"
     ]
    },
    {
     "name": "stdout",
     "output_type": "stream",
     "text": [
      "Car Name: Maruti Suzuki Grand Vitara, Maximum Passengers: 5, Cost for 5 days: 25000\n"
     ]
    },
    {
     "name": "stdin",
     "output_type": "stream",
     "text": [
      "Would you like to rent this car? (yes/no):  yes\n"
     ]
    },
    {
     "name": "stdout",
     "output_type": "stream",
     "text": [
      "You have successfully rented Maruti Suzuki Grand Vitara.\n"
     ]
    },
    {
     "name": "stdin",
     "output_type": "stream",
     "text": [
      "Would you like to continue or quit? (c/q):  c\n"
     ]
    },
    {
     "name": "stdout",
     "output_type": "stream",
     "text": [
      "There are few of the options you can opt for from our company.\n",
      "1. Listing all the Vehicles and Details\n",
      "2. Which Vehicle would you like to rent\n",
      "3. Return a Car\n",
      "4. Would You Like to add a Car we can provide you with?\n",
      "5. Would you like to know more about the company?\n",
      "\n"
     ]
    },
    {
     "name": "stdin",
     "output_type": "stream",
     "text": [
      "Enter the choice you would like to opt:  3\n",
      "Enter the car number to return:  HP 86 0313\n"
     ]
    },
    {
     "name": "stdout",
     "output_type": "stream",
     "text": [
      "Car HP 86 0313 returned successfully!\n"
     ]
    },
    {
     "name": "stdin",
     "output_type": "stream",
     "text": [
      "Would you like to continue or quit? (c/q):  c\n"
     ]
    },
    {
     "name": "stdout",
     "output_type": "stream",
     "text": [
      "There are few of the options you can opt for from our company.\n",
      "1. Listing all the Vehicles and Details\n",
      "2. Which Vehicle would you like to rent\n",
      "3. Return a Car\n",
      "4. Would You Like to add a Car we can provide you with?\n",
      "5. Would you like to know more about the company?\n",
      "\n"
     ]
    },
    {
     "name": "stdin",
     "output_type": "stream",
     "text": [
      "Enter the choice you would like to opt:  1\n"
     ]
    },
    {
     "name": "stdout",
     "output_type": "stream",
     "text": [
      "                     Car_Name Type_of_Vehicle  Maximum_Passenger  \\\n",
      "0              Ford Endeavour         SUV 4X4                  6   \n",
      "1               Hyundai Creta             SUV                  5   \n",
      "2                 Honda Amaze           Sedan                  4   \n",
      "3             Toyota Fortuner         SUV 4X4                  6   \n",
      "4         Maruti Suzuki Swift       Hatchback                  4   \n",
      "5                  Tata Tiago       Hatchback                  4   \n",
      "6            Chevrolet Camaro        Pony car                  4   \n",
      "7  Maruti Suzuki Grand Vitara             SUV                  5   \n",
      "\n",
      "   Money_Per_Day  Quantity  \n",
      "0           6000         2  \n",
      "1           5000         4  \n",
      "2           3000         6  \n",
      "3           6000         3  \n",
      "4           2000         8  \n",
      "5           2000         7  \n",
      "6           3000         1  \n",
      "7           5000         4  \n"
     ]
    },
    {
     "name": "stdin",
     "output_type": "stream",
     "text": [
      "Would you like to continue or quit? (c/q):  4\n"
     ]
    },
    {
     "name": "stdout",
     "output_type": "stream",
     "text": [
      "There are few of the options you can opt for from our company.\n",
      "1. Listing all the Vehicles and Details\n",
      "2. Which Vehicle would you like to rent\n",
      "3. Return a Car\n",
      "4. Would You Like to add a Car we can provide you with?\n",
      "5. Would you like to know more about the company?\n",
      "\n"
     ]
    },
    {
     "name": "stdin",
     "output_type": "stream",
     "text": [
      "Enter the choice you would like to opt:  \n"
     ]
    },
    {
     "ename": "ValueError",
     "evalue": "invalid literal for int() with base 10: ''",
     "output_type": "error",
     "traceback": [
      "\u001b[1;31m---------------------------------------------------------------------------\u001b[0m",
      "\u001b[1;31mValueError\u001b[0m                                Traceback (most recent call last)",
      "Cell \u001b[1;32mIn[23], line 105\u001b[0m\n\u001b[0;32m    102\u001b[0m         \u001b[38;5;28;01mif\u001b[39;00m continue_choice \u001b[38;5;241m==\u001b[39m \u001b[38;5;124m'\u001b[39m\u001b[38;5;124mq\u001b[39m\u001b[38;5;124m'\u001b[39m:\n\u001b[0;32m    103\u001b[0m             \u001b[38;5;28;01mbreak\u001b[39;00m\n\u001b[1;32m--> 105\u001b[0m \u001b[43mcar_rentals\u001b[49m\u001b[43m(\u001b[49m\u001b[43m)\u001b[49m\n",
      "Cell \u001b[1;32mIn[23], line 23\u001b[0m, in \u001b[0;36mcar_rentals\u001b[1;34m()\u001b[0m\n\u001b[0;32m     15\u001b[0m     \u001b[38;5;28;01mwhile\u001b[39;00m \u001b[38;5;28;01mTrue\u001b[39;00m:\n\u001b[0;32m     16\u001b[0m         \u001b[38;5;28mprint\u001b[39m(\u001b[38;5;124m\"\"\"\u001b[39m\u001b[38;5;124mThere are few of the options you can opt for from our company.\u001b[39m\n\u001b[0;32m     17\u001b[0m \u001b[38;5;124m1. Listing all the Vehicles and Details\u001b[39m\n\u001b[0;32m     18\u001b[0m \u001b[38;5;124m2. Which Vehicle would you like to rent\u001b[39m\n\u001b[0;32m     19\u001b[0m \u001b[38;5;124m3. Return a Car\u001b[39m\n\u001b[0;32m     20\u001b[0m \u001b[38;5;124m4. Would You Like to add a Car we can provide you with?\u001b[39m\n\u001b[0;32m     21\u001b[0m \u001b[38;5;124m5. Would you like to know more about the company?\u001b[39m\u001b[38;5;130;01m\\n\u001b[39;00m\u001b[38;5;124m\"\"\"\u001b[39m)\n\u001b[1;32m---> 23\u001b[0m         choice \u001b[38;5;241m=\u001b[39m \u001b[38;5;28;43mint\u001b[39;49m\u001b[43m(\u001b[49m\u001b[38;5;28;43minput\u001b[39;49m\u001b[43m(\u001b[49m\u001b[38;5;124;43m\"\u001b[39;49m\u001b[38;5;124;43mEnter the choice you would like to opt: \u001b[39;49m\u001b[38;5;124;43m\"\u001b[39;49m\u001b[43m)\u001b[49m\u001b[43m)\u001b[49m\n\u001b[0;32m     25\u001b[0m         \u001b[38;5;28;01mmatch\u001b[39;00m choice:\n\u001b[0;32m     26\u001b[0m             \u001b[38;5;28;01mcase\u001b[39;00m \u001b[38;5;241m1\u001b[39m:\n",
      "\u001b[1;31mValueError\u001b[0m: invalid literal for int() with base 10: ''"
     ]
    }
   ],
   "source": [
    "import pandas as pd\n",
    "\n",
    "def car_rentals():\n",
    "    print(\"WELCOME TO THE CAR RENTALS!!\")\n",
    "    data = pd.DataFrame({\n",
    "        \"Car_Number\": [\"HP 38 A 6541\", \"UP 80 3213\", \"PB 02 9810\", \"GJ 90 D 7563\", \"AP 12 L 1248\", \"RJ 27 KJ 2497\", \"AR 42 7648\", \"HP 86 0313\"],\n",
    "        \"Car_Name\": [\"Ford Endeavour\", \"Hyundai Creta\", \"Honda Amaze\", \"Toyota Fortuner\", \"Maruti Suzuki Swift\", \"Tata Tiago\", \"Chevrolet Camaro\", \"Maruti Suzuki Grand Vitara\"],\n",
    "        \"Type_of_Vehicle\": [\"SUV 4X4\", \"SUV\", \"Sedan\", \"SUV 4X4\", \"Hatchback\", \"Hatchback\", \"Pony car\", \"SUV\"],\n",
    "        \"Maximum_Passenger\": [6, 5, 4, 6, 4, 4, 4, 5],\n",
    "        \"Money_Per_Day\": [6000, 5000, 3000, 6000, 2000, 2000, 3000, 5000],\n",
    "        \"Quantity\": [2, 4, 6, 3, 8, 7, 1, 4],\n",
    "        \"Documents\": [\"Verified\", \"Verified\", \"In process\", \"Verified\", \"Verified\", \"Verified\", \"Verified\", \"Verified\"]\n",
    "    })\n",
    "\n",
    "    while True:\n",
    "        print(\"\"\"There are few of the options you can opt for from our company.\n",
    "1. Listing all the Vehicles and Details\n",
    "2. Which Vehicle would you like to rent\n",
    "3. Return a Car\n",
    "4. Would You Like to add a Car we can provide you with?\n",
    "5. Would you like to know more about the company?\\n\"\"\")\n",
    "\n",
    "        choice = int(input(\"Enter the choice you would like to opt: \"))\n",
    "\n",
    "        match choice:\n",
    "            case 1:\n",
    "                print(data.loc[:, [\"Car_Name\", \"Type_of_Vehicle\", \"Maximum_Passenger\", \"Money_Per_Day\",\"Quantity\"]])\n",
    "            case 2:\n",
    "                Maximum = int(input(\"\\nNumber of Passengers you are planning on traveling with: \"))\n",
    "                journey = int(input(\"How many days are you planning on traveling: \"))\n",
    "                suitable_vehicles = data[data[\"Maximum_Passenger\"] >= Maximum]\n",
    "\n",
    "                if not suitable_vehicles.empty:\n",
    "                    print(\"\\nWe would Like to suggest you this vehicle(s): \")\n",
    "                    for index, vehicle in suitable_vehicles.iterrows():\n",
    "                        if vehicle[\"Quantity\"] > 0:\n",
    "                            total_cost = vehicle[\"Money_Per_Day\"] * journey\n",
    "                            print(f\"Car Name: {vehicle['Car_Name']}, Maximum Passengers: {vehicle['Maximum_Passenger']}, Cost for {journey} days: {total_cost}\")\n",
    "                            rent_choice = input(\"Would you like to rent this car? (yes/no): \").strip().lower()\n",
    "                            if rent_choice == 'yes':\n",
    "                                data.at[index, \"Quantity\"] -= 1\n",
    "                                print(f\"You have successfully rented {vehicle['Car_Name']}.\")\n",
    "                        else:\n",
    "                            print(f\"Sorry, {vehicle['Car_Name']} is not available right now.\")\n",
    "                else:\n",
    "                    print(\"Sorry, we do not have any vehicles that can accommodate that many passengers.\")\n",
    "            case 3:\n",
    "                return_car_number = input(\"Enter the car number to return: \").strip()\n",
    "                return_car = data[data[\"Car_Number\"] == return_car_number]\n",
    "\n",
    "                if not return_car.empty:\n",
    "                    index = return_car.index[0]\n",
    "                    data.at[index, \"Quantity\"] += 1\n",
    "                    print(f\"Car {return_car_number} returned successfully!\")\n",
    "                else:\n",
    "                    new_car_name = input(\"Enter the car name: \")\n",
    "                    new_type_of_vehicle = input(\"Enter the type of vehicle: \")\n",
    "                    new_max_passenger = int(input(\"Enter the maximum number of passengers: \"))\n",
    "                    new_money_per_day = int(input(\"Enter the rent per day: \"))\n",
    "                    new_quantity = 1\n",
    "                    new_documents = input(\"Enter the document status: \")\n",
    "\n",
    "                    new_car = {\n",
    "                        \"Car_Number\": return_car_number,\n",
    "                        \"Car_Name\": new_car_name,\n",
    "                        \"Type_of_Vehicle\": new_type_of_vehicle,\n",
    "                        \"Maximum_Passenger\": new_max_passenger,\n",
    "                        \"Money_Per_Day\": new_money_per_day,\n",
    "                        \"Quantity\": new_quantity,\n",
    "                        \"Documents\": new_documents\n",
    "                    }\n",
    "\n",
    "                    data = data.append(new_car, ignore_index=True)\n",
    "                    print(f\"\\nCar {return_car_number} added successfully!\")\n",
    "            case 4:\n",
    "                new_car_number = input(\"Enter the car number: \")\n",
    "                new_car_name = input(\"Enter the car name: \")\n",
    "                new_type_of_vehicle = input(\"Enter the type of vehicle: \")\n",
    "                new_max_passenger = int(input(\"Enter the maximum number of passengers: \"))\n",
    "                new_money_per_day = int(input(\"Enter the rent per day: \"))\n",
    "                new_quantity = int(input(\"Enter the quantity available: \"))\n",
    "                new_documents = input(\"Enter the document status: \")\n",
    "\n",
    "                new_car = {\n",
    "                    \"Car_Number\": new_car_number,\n",
    "                    \"Car_Name\": new_car_name,\n",
    "                    \"Type_of_Vehicle\": new_type_of_vehicle,\n",
    "                    \"Maximum_Passenger\": new_max_passenger,\n",
    "                    \"Money_Per_Day\": new_money_per_day,\n",
    "                    \"Quantity\": new_quantity,\n",
    "                    \"Documents\": new_documents\n",
    "                }\n",
    "\n",
    "                data = data.append(new_car, ignore_index=True)\n",
    "                print(\"\\nThe new car has been added successfully!\")\n",
    "            case 5:\n",
    "                print(\"\\nWe are a reputed car rental company with a wide range of vehicles to cater to your needs. We ensure all our vehicles are well-maintained and verified for safety. Contact us for more details.\")\n",
    "            case _:\n",
    "                print(\"\\nInvalid choice! Please enter a number between 1 and 5.\")\n",
    "\n",
    "        continue_choice = input(\"Would you like to continue or quit? (c/q): \").strip().lower()\n",
    "        if continue_choice == 'q':\n",
    "            break\n",
    "\n",
    "car_rentals()\n"
   ]
  },
  {
   "cell_type": "code",
   "execution_count": null,
   "id": "e1b9193e-a4b2-4f58-bb47-e237ebbae858",
   "metadata": {},
   "outputs": [],
   "source": []
  }
 ],
 "metadata": {
  "kernelspec": {
   "display_name": "Python 3 (ipykernel)",
   "language": "python",
   "name": "python3"
  },
  "language_info": {
   "codemirror_mode": {
    "name": "ipython",
    "version": 3
   },
   "file_extension": ".py",
   "mimetype": "text/x-python",
   "name": "python",
   "nbconvert_exporter": "python",
   "pygments_lexer": "ipython3",
   "version": "3.12.4"
  }
 },
 "nbformat": 4,
 "nbformat_minor": 5
}
