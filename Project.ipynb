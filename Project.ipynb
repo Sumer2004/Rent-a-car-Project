{
 "cells": [
  {
   "cell_type": "code",
   "execution_count": 31,
   "id": "b06fd03d-269f-429a-83a4-e61661055fa9",
   "metadata": {},
   "outputs": [
    {
     "name": "stdout",
     "output_type": "stream",
     "text": [
      "WELCOME TO THE CAR RENTALS!!\n",
      "There are few of the options you can opt for from our company.\n",
      "1. Listing all the Vehicles and Details\n",
      "2. Which Vehicle would you like to rent\n",
      "3. Return a Car\n",
      "4. Would You Like to add a Car we can provide you with?\n",
      "5. Would you like to know more about the company?\n",
      "\n"
     ]
    },
    {
     "name": "stdin",
     "output_type": "stream",
     "text": [
      "Enter the choice you would like to opt:  1\n"
     ]
    },
    {
     "name": "stdout",
     "output_type": "stream",
     "text": [
      "                     Car_Name Type_of_Vehicle  Maximum_Passenger  \\\n",
      "0              Ford Endeavour         SUV 4X4                  6   \n",
      "1               Hyundai Creta             SUV                  5   \n",
      "2                 Honda Amaze           Sedan                  4   \n",
      "3             Toyota Fortuner         SUV 4X4                  6   \n",
      "4         Maruti Suzuki Swift       Hatchback                  4   \n",
      "5                  Tata Tiago       Hatchback                  4   \n",
      "6            Chevrolet Camaro        Pony car                  4   \n",
      "7  Maruti Suzuki Grand Vitara             SUV                  5   \n",
      "\n",
      "   Money_Per_Day  Quantity  \n",
      "0           6000         2  \n",
      "1           5000         4  \n",
      "2           3000         6  \n",
      "3           6000         3  \n",
      "4           2000         8  \n",
      "5           2000         7  \n",
      "6           3000         1  \n",
      "7           5000         4  \n"
     ]
    },
    {
     "name": "stdin",
     "output_type": "stream",
     "text": [
      "\n",
      "Would you like to continue or quit? (c/q):  c\n"
     ]
    },
    {
     "name": "stdout",
     "output_type": "stream",
     "text": [
      "\n",
      "\n",
      "There are few of the options you can opt for from our company.\n",
      "1. Listing all the Vehicles and Details\n",
      "2. Which Vehicle would you like to rent\n",
      "3. Return a Car\n",
      "4. Would You Like to add a Car we can provide you with?\n",
      "5. Would you like to know more about the company?\n",
      "\n"
     ]
    },
    {
     "name": "stdin",
     "output_type": "stream",
     "text": [
      "Enter the choice you would like to opt:  2\n",
      "\n",
      "Number of Passengers you are planning on traveling with:  5\n",
      "How many days are you planning on traveling:  5\n"
     ]
    },
    {
     "name": "stdout",
     "output_type": "stream",
     "text": [
      "\n",
      "We would like to suggest you these vehicle(s): \n",
      "Car Number: HP 38 A 6541, Car Name: Ford Endeavour, Maximum Passengers: 6, Cost per Day: 6000\n",
      "Car Number: UP 80 3213, Car Name: Hyundai Creta, Maximum Passengers: 5, Cost per Day: 5000\n",
      "Car Number: GJ 90 D 7563, Car Name: Toyota Fortuner, Maximum Passengers: 6, Cost per Day: 6000\n",
      "Car Number: HP 86 0313, Car Name: Maruti Suzuki Grand Vitara, Maximum Passengers: 5, Cost per Day: 5000\n"
     ]
    },
    {
     "name": "stdin",
     "output_type": "stream",
     "text": [
      "\n",
      "Enter the car number you would like to rent:  GJ 90 D 7563\n"
     ]
    },
    {
     "name": "stdout",
     "output_type": "stream",
     "text": [
      "\n",
      "You have selected Toyota Fortuner. Cost for 5 days: 30000\n"
     ]
    },
    {
     "name": "stdin",
     "output_type": "stream",
     "text": [
      "Would you like to rent this car? (yes/no):  yes\n"
     ]
    },
    {
     "name": "stdout",
     "output_type": "stream",
     "text": [
      "\n",
      "You have successfully rented Toyota Fortuner.\n"
     ]
    },
    {
     "name": "stdin",
     "output_type": "stream",
     "text": [
      "\n",
      "Would you like to continue or quit? (c/q):  c\n"
     ]
    },
    {
     "name": "stdout",
     "output_type": "stream",
     "text": [
      "\n",
      "\n",
      "There are few of the options you can opt for from our company.\n",
      "1. Listing all the Vehicles and Details\n",
      "2. Which Vehicle would you like to rent\n",
      "3. Return a Car\n",
      "4. Would You Like to add a Car we can provide you with?\n",
      "5. Would you like to know more about the company?\n",
      "\n"
     ]
    },
    {
     "name": "stdin",
     "output_type": "stream",
     "text": [
      "Enter the choice you would like to opt:  3\n",
      "\n",
      "Enter the car number to return:  GJ 90 D 7563\n"
     ]
    },
    {
     "name": "stdout",
     "output_type": "stream",
     "text": [
      "\n",
      "Car GJ 90 D 7563 returned successfully!\n"
     ]
    },
    {
     "name": "stdin",
     "output_type": "stream",
     "text": [
      "\n",
      "Would you like to continue or quit? (c/q):  c\n"
     ]
    },
    {
     "name": "stdout",
     "output_type": "stream",
     "text": [
      "\n",
      "\n",
      "There are few of the options you can opt for from our company.\n",
      "1. Listing all the Vehicles and Details\n",
      "2. Which Vehicle would you like to rent\n",
      "3. Return a Car\n",
      "4. Would You Like to add a Car we can provide you with?\n",
      "5. Would you like to know more about the company?\n",
      "\n"
     ]
    },
    {
     "name": "stdin",
     "output_type": "stream",
     "text": [
      "Enter the choice you would like to opt:  4\n",
      "\n",
      "Enter the car number:  HP 77 X 0001\n",
      "Enter the car name:  Toyota Supra\n",
      "Enter the type of vehicle:  Sports Car\n",
      "Enter the maximum number of passengers:  4\n",
      "Enter the rent per day:  4000\n",
      "Enter the quantity available:  1\n",
      "Enter the document status:  Verified\n"
     ]
    },
    {
     "name": "stdout",
     "output_type": "stream",
     "text": [
      "\n",
      "The new car has been added successfully!\n"
     ]
    },
    {
     "name": "stdin",
     "output_type": "stream",
     "text": [
      "\n",
      "Would you like to continue or quit? (c/q):  c\n"
     ]
    },
    {
     "name": "stdout",
     "output_type": "stream",
     "text": [
      "\n",
      "\n",
      "There are few of the options you can opt for from our company.\n",
      "1. Listing all the Vehicles and Details\n",
      "2. Which Vehicle would you like to rent\n",
      "3. Return a Car\n",
      "4. Would You Like to add a Car we can provide you with?\n",
      "5. Would you like to know more about the company?\n",
      "\n"
     ]
    },
    {
     "name": "stdin",
     "output_type": "stream",
     "text": [
      "Enter the choice you would like to opt:  1\n"
     ]
    },
    {
     "name": "stdout",
     "output_type": "stream",
     "text": [
      "                     Car_Name Type_of_Vehicle  Maximum_Passenger  \\\n",
      "0              Ford Endeavour         SUV 4X4                  6   \n",
      "1               Hyundai Creta             SUV                  5   \n",
      "2                 Honda Amaze           Sedan                  4   \n",
      "3             Toyota Fortuner         SUV 4X4                  6   \n",
      "4         Maruti Suzuki Swift       Hatchback                  4   \n",
      "5                  Tata Tiago       Hatchback                  4   \n",
      "6            Chevrolet Camaro        Pony car                  4   \n",
      "7  Maruti Suzuki Grand Vitara             SUV                  5   \n",
      "8                Toyota Supra      Sports Car                  4   \n",
      "\n",
      "   Money_Per_Day  Quantity  \n",
      "0           6000         2  \n",
      "1           5000         4  \n",
      "2           3000         6  \n",
      "3           6000         3  \n",
      "4           2000         8  \n",
      "5           2000         7  \n",
      "6           3000         1  \n",
      "7           5000         4  \n",
      "8           4000         1  \n"
     ]
    },
    {
     "name": "stdin",
     "output_type": "stream",
     "text": [
      "\n",
      "Would you like to continue or quit? (c/q):  c\n"
     ]
    },
    {
     "name": "stdout",
     "output_type": "stream",
     "text": [
      "\n",
      "\n",
      "There are few of the options you can opt for from our company.\n",
      "1. Listing all the Vehicles and Details\n",
      "2. Which Vehicle would you like to rent\n",
      "3. Return a Car\n",
      "4. Would You Like to add a Car we can provide you with?\n",
      "5. Would you like to know more about the company?\n",
      "\n"
     ]
    },
    {
     "name": "stdin",
     "output_type": "stream",
     "text": [
      "Enter the choice you would like to opt:  5\n"
     ]
    },
    {
     "name": "stdout",
     "output_type": "stream",
     "text": [
      "\n",
      "We are a reputed car rental company with a wide range of vehicles to cater to your needs. We ensure all our vehicles are well-maintained and verified for safety. Contact us for more details.\n"
     ]
    },
    {
     "name": "stdin",
     "output_type": "stream",
     "text": [
      "\n",
      "Would you like to continue or quit? (c/q):  q\n"
     ]
    }
   ],
   "source": [
    "import pandas as pd\n",
    "\n",
    "def car_rentals():\n",
    "    print(\"WELCOME TO THE CAR RENTALS!!\")\n",
    "    data = pd.DataFrame({\n",
    "        \"Car_Number\": [\"HP 38 A 6541\", \"UP 80 3213\", \"PB 02 9810\", \"GJ 90 D 7563\", \"AP 12 L 1248\", \"RJ 27 KJ 2497\", \"AR 42 7648\", \"HP 86 0313\"],\n",
    "        \"Car_Name\": [\"Ford Endeavour\", \"Hyundai Creta\", \"Honda Amaze\", \"Toyota Fortuner\", \"Maruti Suzuki Swift\", \"Tata Tiago\", \"Chevrolet Camaro\", \"Maruti Suzuki Grand Vitara\"],\n",
    "        \"Type_of_Vehicle\": [\"SUV 4X4\", \"SUV\", \"Sedan\", \"SUV 4X4\", \"Hatchback\", \"Hatchback\", \"Pony car\", \"SUV\"],\n",
    "        \"Maximum_Passenger\": [6, 5, 4, 6, 4, 4, 4, 5],\n",
    "        \"Money_Per_Day\": [6000, 5000, 3000, 6000, 2000, 2000, 3000, 5000],\n",
    "        \"Quantity\": [2, 4, 6, 3, 8, 7, 1, 4],\n",
    "        \"Documents\": [\"Verified\", \"Verified\", \"In process\", \"Verified\", \"Verified\", \"Verified\", \"Verified\", \"Verified\"]\n",
    "    })\n",
    "\n",
    "    while True:\n",
    "        print(\"\"\"There are few of the options you can opt for from our company.\n",
    "1. Listing all the Vehicles and Details\n",
    "2. Which Vehicle would you like to rent\n",
    "3. Return a Car\n",
    "4. Would You Like to add a Car we can provide you with?\n",
    "5. Would you like to know more about the company?\\n\"\"\")\n",
    "\n",
    "        choice = int(input(\"Enter the choice you would like to opt: \"))\n",
    "\n",
    "        match choice:\n",
    "            case 1:\n",
    "                print(data.loc[:, [\"Car_Name\", \"Type_of_Vehicle\", \"Maximum_Passenger\", \"Money_Per_Day\", \"Quantity\"]])\n",
    "            case 2:\n",
    "                Maximum = int(input(\"\\nNumber of Passengers you are planning on traveling with: \"))\n",
    "                journey = int(input(\"How many days are you planning on traveling: \"))\n",
    "                suitable_vehicles = data[data[\"Maximum_Passenger\"] >= Maximum]\n",
    "\n",
    "                if not suitable_vehicles.empty:\n",
    "                    print(\"\\nWe would like to suggest you these vehicle(s): \")\n",
    "                    for index, vehicle in suitable_vehicles.iterrows():\n",
    "                        if vehicle[\"Quantity\"] > 0:\n",
    "                            print(f\"Car Number: {vehicle['Car_Number']}, Car Name: {vehicle['Car_Name']}, Maximum Passengers: {vehicle['Maximum_Passenger']}, Cost per Day: {vehicle['Money_Per_Day']}\")\n",
    "                    \n",
    "                    selected_car_number = input(\"\\nEnter the car number you would like to rent: \").strip()\n",
    "                    selected_car = suitable_vehicles[suitable_vehicles[\"Car_Number\"] == selected_car_number]\n",
    "\n",
    "                    if not selected_car.empty:\n",
    "                        index = selected_car.index[0]\n",
    "                        if data.at[index, \"Quantity\"] > 0:\n",
    "                            total_cost = data.at[index, \"Money_Per_Day\"] * journey\n",
    "                            print(f\"\\nYou have selected {data.at[index, 'Car_Name']}. Cost for {journey} days: {total_cost}\")\n",
    "                            rent_choice = input(\"Would you like to rent this car? (yes/no): \").strip().lower()\n",
    "                            if rent_choice == 'yes':\n",
    "                                data.at[index, \"Quantity\"] -= 1\n",
    "                                print(f\"\\nYou have successfully rented {data.at[index, 'Car_Name']}.\")\n",
    "                            else:\n",
    "                                print(\"\\nCar rental cancelled.\")\n",
    "                        else:\n",
    "                            print(f\"\\nSorry, {data.at[index, 'Car_Name']} is not available right now.\")\n",
    "                    else:\n",
    "                        print(\"\\nInvalid car number.\")\n",
    "                else:\n",
    "                    print(\"\\nSorry, we do not have any vehicles that can accommodate that many passengers.\")\n",
    "            case 3:\n",
    "                return_car_number = input(\"\\nEnter the car number to return: \").strip()\n",
    "                return_car = data[data[\"Car_Number\"] == return_car_number]\n",
    "\n",
    "                if not return_car.empty:\n",
    "                    index = return_car.index[0]\n",
    "                    data.at[index, \"Quantity\"] += 1\n",
    "                    print(f\"\\nCar {return_car_number} returned successfully!\")\n",
    "                else:\n",
    "                    new_car_name = input(\"\\nEnter the car name: \")\n",
    "                    new_type_of_vehicle = input(\"Enter the type of vehicle: \")\n",
    "                    new_max_passenger = int(input(\"Enter the maximum number of passengers: \"))\n",
    "                    new_money_per_day = int(input(\"Enter the rent per day: \"))\n",
    "                    new_quantity = 1\n",
    "                    new_documents = input(\"Enter the document status: \")\n",
    "\n",
    "                    new_car = pd.DataFrame([{\n",
    "                        \"Car_Number\": return_car_number,\n",
    "                        \"Car_Name\": new_car_name,\n",
    "                        \"Type_of_Vehicle\": new_type_of_vehicle,\n",
    "                        \"Maximum_Passenger\": new_max_passenger,\n",
    "                        \"Money_Per_Day\": new_money_per_day,\n",
    "                        \"Quantity\": new_quantity,\n",
    "                        \"Documents\": new_documents\n",
    "                    }])\n",
    "\n",
    "                    data = pd.concat([data, new_car], ignore_index=True)\n",
    "                    print(f\"\\nCar {return_car_number} added successfully!\")\n",
    "            case 4:\n",
    "                new_car_number = input(\"\\nEnter the car number: \")\n",
    "                new_car_name = input(\"Enter the car name: \")\n",
    "                new_type_of_vehicle = input(\"Enter the type of vehicle: \")\n",
    "                new_max_passenger = int(input(\"Enter the maximum number of passengers: \"))\n",
    "                new_money_per_day = int(input(\"Enter the rent per day: \"))\n",
    "                new_quantity = int(input(\"Enter the quantity available: \"))\n",
    "                new_documents = input(\"Enter the document status: \")\n",
    "\n",
    "                new_car = pd.DataFrame([{\n",
    "                    \"Car_Number\": new_car_number,\n",
    "                    \"Car_Name\": new_car_name,\n",
    "                    \"Type_of_Vehicle\": new_type_of_vehicle,\n",
    "                    \"Maximum_Passenger\": new_max_passenger,\n",
    "                    \"Money_Per_Day\": new_money_per_day,\n",
    "                    \"Quantity\": new_quantity,\n",
    "                    \"Documents\": new_documents\n",
    "                }])\n",
    "\n",
    "                data = pd.concat([data, new_car], ignore_index=True)\n",
    "                print(\"\\nThe new car has been added successfully!\")\n",
    "            case 5:\n",
    "                print(\"\\nWe are a reputed car rental company with a wide range of vehicles to cater to your needs. We ensure all our vehicles are well-maintained and verified for safety. Contact us for more details.\")\n",
    "            case _:\n",
    "                print(\"\\nInvalid choice! Please enter a number between 1 and 5.\")\n",
    "\n",
    "        continue_choice = input(\"\\nWould you like to continue or quit? (c/q): \").strip().lower()\n",
    "        if continue_choice == 'q':\n",
    "            break\n",
    "        else:\n",
    "            print(\"\\n\")\n",
    "\n",
    "car_rentals()\n"
   ]
  },
  {
   "cell_type": "code",
   "execution_count": null,
   "id": "e1b9193e-a4b2-4f58-bb47-e237ebbae858",
   "metadata": {},
   "outputs": [],
   "source": []
  }
 ],
 "metadata": {
  "kernelspec": {
   "display_name": "Python 3 (ipykernel)",
   "language": "python",
   "name": "python3"
  },
  "language_info": {
   "codemirror_mode": {
    "name": "ipython",
    "version": 3
   },
   "file_extension": ".py",
   "mimetype": "text/x-python",
   "name": "python",
   "nbconvert_exporter": "python",
   "pygments_lexer": "ipython3",
   "version": "3.12.4"
  }
 },
 "nbformat": 4,
 "nbformat_minor": 5
}
